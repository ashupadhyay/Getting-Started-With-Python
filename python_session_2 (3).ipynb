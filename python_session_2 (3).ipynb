{
  "nbformat": 4,
  "nbformat_minor": 0,
  "metadata": {
    "colab": {
      "name": "python_session_2.ipynb",
      "provenance": [],
      "collapsed_sections": [],
      "toc_visible": true
    },
    "kernelspec": {
      "name": "python3",
      "display_name": "Python 3"
    },
    "language_info": {
      "name": "python"
    }
  },
  "cells": [
    {
      "cell_type": "markdown",
      "metadata": {
        "id": "bCPSPzt-xnO-"
      },
      "source": [
        "# **Python continued...**"
      ]
    },
    {
      "cell_type": "markdown",
      "metadata": {
        "id": "ztV-niQlxtHm"
      },
      "source": [
        "# ***Object oreinted programmimg***"
      ]
    },
    {
      "cell_type": "markdown",
      "metadata": {
        "id": "zE_wAscNx8EJ"
      },
      "source": [
        "Solving a problem by creating objects is one of the most popular approahes in programming, this is called **object oriented programming**."
      ]
    },
    {
      "cell_type": "markdown",
      "metadata": {
        "id": "X9MaImyDKdzF"
      },
      "source": [
        "An object has two characteristics\n",
        "1. **Attribute** The variable of different datatypes declared in public, private or protected sections of the class.\n",
        "\n",
        "2. **Behaviour** The function which is defined in the class in private, public or protected section.\n",
        "\n",
        "A **rabbit** can be an object, as it has the following properties:\n",
        "* **name, age, color** as **attributes**\n",
        "* **Running,eating** as **behavior**"
      ]
    },
    {
      "cell_type": "markdown",
      "metadata": {
        "id": "wXHqqDAuyQTx"
      },
      "source": [
        "## ***OOP Concepts***\n",
        "\n",
        "1. Class\n",
        "2. Object\n",
        "3. Data Abstraction\n",
        "4. Encapsulation\n",
        "5. Inheritance\n",
        "6. Polymorphism"
      ]
    },
    {
      "cell_type": "markdown",
      "metadata": {
        "id": "owoOiFu7zI45"
      },
      "source": [
        "## **OOP |** **CLASS**"
      ]
    },
    {
      "cell_type": "markdown",
      "metadata": {
        "id": "Ap_xpVGezcR-"
      },
      "source": [
        "A class functions as a template that defines the basic characteristics of a particular object."
      ]
    },
    {
      "cell_type": "markdown",
      "metadata": {
        "id": "_UssBthbmWM_"
      },
      "source": [
        "Class Name starts always with a capital letter\n",
        "Valid Names of class like\n",
        "\n",
        "- Mobile\n",
        "- Vehicle"
      ]
    },
    {
      "cell_type": "code",
      "metadata": {
        "colab": {
          "base_uri": "https://localhost:8080/"
        },
        "id": "M5MHeO30MFhU",
        "outputId": "57190d6f-ec6b-443f-d8f8-5d698e3e8e25"
      },
      "source": [
        "class Mobile:\n",
        "    pass\n",
        "\n",
        "mob1=Mobile()\n",
        "mob2=Mobile()\n",
        "\n",
        "print(id(mob1))\n",
        "print(id(mob2))"
      ],
      "execution_count": null,
      "outputs": [
        {
          "output_type": "stream",
          "text": [
            "140362601042960\n",
            "140362601042896\n"
          ],
          "name": "stdout"
        }
      ]
    },
    {
      "cell_type": "markdown",
      "metadata": {
        "id": "TegFfiexpryk"
      },
      "source": [
        "## **Modeling a problem in OOP:-**"
      ]
    },
    {
      "cell_type": "markdown",
      "metadata": {
        "id": "dPBSYTJ5o8QZ"
      },
      "source": [
        "### **Constructor**\n",
        "A constructor is a special type of method which is used to initialize the instance members of the class.\n",
        "\n",
        "The constructor is called automatically when we create the object of the class.\n"
      ]
    },
    {
      "cell_type": "markdown",
      "metadata": {
        "id": "XAw-ysSwtBNr"
      },
      "source": [
        "***Example:- Counting the number of objects of a class.***\n"
      ]
    },
    {
      "cell_type": "code",
      "metadata": {
        "colab": {
          "base_uri": "https://localhost:8080/"
        },
        "id": "-avAA7XVtMtm",
        "outputId": "457d9b7d-32b9-46c4-8b0c-6bdca6f0c717"
      },
      "source": [
        "class Student:\n",
        "  count=0\n",
        "\n",
        "  def __init__(self):\n",
        "    Student.count=Student.count+1\n",
        "\n",
        "s1=Student()\n",
        "s2=Student()\n",
        "s3=Student()\n",
        "print(\"The number of students:\", Student.count)"
      ],
      "execution_count": null,
      "outputs": [
        {
          "output_type": "stream",
          "text": [
            "The number of students: 3\n"
          ],
          "name": "stdout"
        }
      ]
    },
    {
      "cell_type": "markdown",
      "metadata": {
        "id": "hoNgqX9pWu6g"
      },
      "source": [
        "***Types of constructors***\n",
        "\n",
        "**Default constructor** \n",
        "\n",
        "  The default constructor is simple constructor which doesn’t accept any arguments. It’s definition has only one\n",
        "argument which is a reference to the instance being constructed."
      ]
    },
    {
      "cell_type": "code",
      "metadata": {
        "colab": {
          "base_uri": "https://localhost:8080/"
        },
        "id": "xw48s2xsW9OT",
        "outputId": "ec82c5cf-2fd7-4f9d-b6ce-f0bf3ef4d77b"
      },
      "source": [
        "class employee:\n",
        "    def __init__(self):                  # default constructor\n",
        "        self.emp = \"employee\"\n",
        "  \n",
        "    def print_emp(self):                 \n",
        "        print(self.emp)\n",
        "\n",
        "obj = employee()                        # creating object of the class\n",
        "obj.print_emp()                         # calling the instance method using the object obj"
      ],
      "execution_count": null,
      "outputs": [
        {
          "output_type": "stream",
          "text": [
            "employee\n"
          ],
          "name": "stdout"
        }
      ]
    },
    {
      "cell_type": "markdown",
      "metadata": {
        "id": "ZMK60Fz1XcY0"
      },
      "source": [
        "**Parameterized constructor**\n",
        "\n",
        "Constructor with parameters is known as parameterized constructor.The parameterized constructor take its first argument as a reference to the instance being constructed known as self and the rest of the arguments are provided by the programmer."
      ]
    },
    {
      "cell_type": "code",
      "metadata": {
        "colab": {
          "base_uri": "https://localhost:8080/"
        },
        "id": "ZrliJO4qXlly",
        "outputId": "f7c440b5-e829-453c-d2ff-98fa1793c20f"
      },
      "source": [
        "class Addition:\n",
        "    first = 0\n",
        "    second = 0\n",
        "    answer = 0\n",
        "      \n",
        "    def __init__(self, f, s):                                 # parameterized constructor\n",
        "        self.first = f\n",
        "        self.second = s\n",
        "      \n",
        "    def display(self):\n",
        "        print(\"First number = \" + str(self.first))\n",
        "        print(\"Second number = \" + str(self.second))\n",
        "        print(\"Addition of two numbers = \" + str(self.answer))\n",
        "  \n",
        "    def calculate(self):\n",
        "        self.answer = self.first + self.second\n",
        "  \n",
        "\n",
        "obj = Addition(1000, 2000)                                    # creating object of the class\n",
        "                                                              # this will invoke parameterized constructor\n",
        "obj.calculate()\n",
        "obj.display()"
      ],
      "execution_count": null,
      "outputs": [
        {
          "output_type": "stream",
          "text": [
            "First number = 1000\n",
            "Second number = 2000\n",
            "Addition of two numbers = 3000\n"
          ],
          "name": "stdout"
        }
      ]
    },
    {
      "cell_type": "markdown",
      "metadata": {
        "id": "6UnAjTno_Jxx"
      },
      "source": [
        "### **self parameter**\n",
        "\n",
        " Self refers to the instance of the class. It is automatically passed with a function call from an object. "
      ]
    },
    {
      "cell_type": "code",
      "metadata": {
        "colab": {
          "base_uri": "https://localhost:8080/"
        },
        "id": "2ZUrgQvEu7D1",
        "outputId": "3f0f4778-59a8-454e-e0c7-51f2916be48d"
      },
      "source": [
        "class Mobile:\n",
        "    def display(self):\n",
        "        print(\"Displaying details\")\n",
        "    def purchase(self):\n",
        "        self.display()\n",
        "        print(\"Calculating price\")\n",
        "Mobile().purchase()"
      ],
      "execution_count": null,
      "outputs": [
        {
          "output_type": "stream",
          "text": [
            "Displaying details\n",
            "Calculating price\n"
          ],
          "name": "stdout"
        }
      ]
    },
    {
      "cell_type": "markdown",
      "metadata": {
        "id": "p3Gnz8T9vBk5"
      },
      "source": [
        "### **Destructor**\n",
        "\n",
        "Destructors are called when an object get deleted/destroyed.\n",
        "\n",
        "It is always part of class, even if not defined. (If not defined, Python assumes an empty destructor).\n"
      ]
    },
    {
      "cell_type": "code",
      "metadata": {
        "colab": {
          "base_uri": "https://localhost:8080/"
        },
        "id": "Ld5E28Mgvrh8",
        "outputId": "0fba309c-898f-44c6-c1ab-731a14a79cbf"
      },
      "source": [
        "class Vehicle:\n",
        "\tdef __init__(self):\n",
        "\t\tprint(\"Vehicle created\")\n",
        "\n",
        "\tdef __del__(self):\n",
        "\t\tprint(\"Destructor called, vehicle deleted\")\n",
        "\n",
        "car= Vehicle()                                         #constructor called\n",
        "del car                                                #destructor called"
      ],
      "execution_count": null,
      "outputs": [
        {
          "output_type": "stream",
          "text": [
            "Vehicle created\n",
            "Destructor called, vehicle deleted\n"
          ],
          "name": "stdout"
        }
      ]
    },
    {
      "cell_type": "markdown",
      "metadata": {
        "id": "-YAIiMDCvyAN"
      },
      "source": [
        "\n",
        "Even though we didn't call any methods. Constructor and destructor are called automatically.\n"
      ]
    },
    {
      "cell_type": "markdown",
      "metadata": {
        "id": "ww59VSCkwM79"
      },
      "source": [
        "### **Class Attribute**\n",
        "\n",
        "A class attribute is a variable that belongs to a class rather than a particular object. this is shared between all other objects of the same class and is defined outsidethe constructor function __ init__(self) of the class.\n"
      ]
    },
    {
      "cell_type": "markdown",
      "metadata": {
        "id": "nlM88tubwte4"
      },
      "source": [
        "### **Instance Attribute**\n",
        "\n",
        "An instance attribute is a variable belonging to only one object. It is only accessible in scope of the object and it is defined inside the constructor function of a class.\n"
      ]
    },
    {
      "cell_type": "code",
      "metadata": {
        "id": "eVe_vqRtxM5z"
      },
      "source": [
        "class College(branch):\n",
        "  rollno=0                                  #class attribute\n",
        "\n",
        "  def __init__(self, name):\n",
        "    self.name=name                          #instance attribute\n"
      ],
      "execution_count": null,
      "outputs": []
    },
    {
      "cell_type": "markdown",
      "metadata": {
        "id": "ZDo2VVsiyXem"
      },
      "source": [
        "### **Static variables**\n",
        "\n",
        "If the value of a variable is not varied from object to object, such types of variables we have to declare within the class directly but outside of methods.\n",
        "\n",
        "Only one copy of a static variable is shared by all the objects of its class.\n",
        "\n",
        "A static variable can be accessed by its class name with a dot operator or even by an object of its class(only when there is  instance with the same name as a static variable).\n"
      ]
    },
    {
      "cell_type": "code",
      "metadata": {
        "colab": {
          "base_uri": "https://localhost:8080/"
        },
        "id": "cFDTT2VGyc8v",
        "outputId": "26958caa-d0c9-4e76-881b-67698de1c2a9"
      },
      "source": [
        "class Student:\n",
        "\tschool_name=\"Kendriya Vidyalaya\"\t\t#static variable\n",
        "\n",
        "\tdef __init__(self, rollno, name):\n",
        "\t\tself.rollno=rollno\n",
        "\t\tself.name=name\n",
        "print(Student.school_name)\t         \t#accessing static variable\n"
      ],
      "execution_count": null,
      "outputs": [
        {
          "output_type": "stream",
          "text": [
            "Kendriya Vidyalaya\n"
          ],
          "name": "stdout"
        }
      ]
    },
    {
      "cell_type": "markdown",
      "metadata": {
        "id": "-n3ohbcUzBDB"
      },
      "source": [
        "### **Static methods**\n",
        "\n",
        "Just like static variables, static methods are the methods which are bound to the class rather than an object of the class and hence are called using the class name and not the objects of the class.\n",
        "\n",
        "Static methods are bound to the class hence they cannot change the state of an object.\n"
      ]
    },
    {
      "cell_type": "markdown",
      "metadata": {
        "id": "3BWP3lZbzQv_"
      },
      "source": [
        "Rules for creating static methods:-\n",
        "* The methods should not have self.\n",
        "* @staticmethod must be written just before the method.\n",
        "\n",
        "\n",
        "\n",
        "There are two ways of defining a static method:-\n",
        "1. **using the staticmethod()**"
      ]
    },
    {
      "cell_type": "code",
      "metadata": {
        "colab": {
          "base_uri": "https://localhost:8080/"
        },
        "id": "Nm3J8C3BzW9_",
        "outputId": "22c1d74d-d926-4391-9c2e-d29e9a3edac5"
      },
      "source": [
        "class Sinhgad:\n",
        "\tdef info(msg):\n",
        "\t\tprint(msg)\n",
        "\t\tprint(\"Happy to see you all here!\")\n",
        "\n",
        "Sinhgad.info=staticmethod(Sinhgad.info)\n",
        "Sinhgad.info(\"Welcome to python class\")"
      ],
      "execution_count": null,
      "outputs": [
        {
          "output_type": "stream",
          "text": [
            "Welcome to python class\n",
            "Happy to see you all here!\n"
          ],
          "name": "stdout"
        }
      ]
    },
    {
      "cell_type": "markdown",
      "metadata": {
        "id": "xrN0STIdznLH"
      },
      "source": [
        "2. **Using the @staticmethod**"
      ]
    },
    {
      "cell_type": "code",
      "metadata": {
        "colab": {
          "base_uri": "https://localhost:8080/"
        },
        "id": "YaEpXaYizk0c",
        "outputId": "6ebdcd73-80fd-4443-9f36-a144418e6308"
      },
      "source": [
        "class Sinhgad:\n",
        "\t@staticmethod\n",
        "\tdef info(msg):\n",
        "\t\tprint(msg)\n",
        "\t\tprint(\"Happy to see you all here!\")\n",
        "\n",
        "Sinhgad.info(\"Welcome to python class\")"
      ],
      "execution_count": null,
      "outputs": [
        {
          "output_type": "stream",
          "text": [
            "Welcome to python class\n",
            "Happy to see you all here!\n"
          ],
          "name": "stdout"
        }
      ]
    },
    {
      "cell_type": "markdown",
      "metadata": {
        "id": "B4wIZIoR0LC1"
      },
      "source": [
        "We can access static methods directly using class name, even without creating objects.  "
      ]
    },
    {
      "cell_type": "markdown",
      "metadata": {
        "id": "wc9zFj-nNLd-"
      },
      "source": [
        "### **Methods/Behaviour**\n"
      ]
    },
    {
      "cell_type": "markdown",
      "metadata": {
        "id": "JBJ_mhhiNQJM"
      },
      "source": [
        "\n",
        "Behaviors are the tasks that an object performs\n"
      ]
    },
    {
      "cell_type": "code",
      "metadata": {
        "id": "t1aiYlUONTyf",
        "colab": {
          "base_uri": "https://localhost:8080/"
        },
        "outputId": "4d0cb869-ff68-4297-ddc9-e926e54fba04"
      },
      "source": [
        "class Rectangle:\n",
        "  def __init__(self,l,w):\n",
        "    self.length=l\n",
        "    self.width=w\n",
        "  def calculate_area(self):\n",
        "    print(self.length*self.width)\n",
        "   \n",
        "obj=Rectangle(10,30)\n",
        "obj.calculate_area()\n"
      ],
      "execution_count": null,
      "outputs": [
        {
          "output_type": "stream",
          "text": [
            "300\n"
          ],
          "name": "stdout"
        }
      ]
    },
    {
      "cell_type": "markdown",
      "metadata": {
        "id": "3Azqt3T-4wku"
      },
      "source": [
        "### **Getters and setters**\n",
        "\n",
        "Class variables need not be set directly, they can be set using class methods. To have error free way of accessing and updating private variables, we create specific methods:-\n",
        "\n",
        "* The methods which are meant to set a value to a private variable are called **setter methods.**\n",
        "* The methods meant to access private variable values are called **getter methods.** "
      ]
    },
    {
      "cell_type": "code",
      "metadata": {
        "id": "bDOpJgFr4-cv"
      },
      "source": [
        "class Friend:\n",
        "\tdef __init__(self):\n",
        "\t\tself.job=\"None\"\n",
        "\n",
        "Priyanka=Friend()\n",
        "Himanshi=Friend()\n"
      ],
      "execution_count": null,
      "outputs": []
    },
    {
      "cell_type": "markdown",
      "metadata": {
        "id": "cGy6fYK45DYv"
      },
      "source": [
        "\n",
        "These objects do not have the property (job)set. We create two methods: getJob() and setJob().\n"
      ]
    },
    {
      "cell_type": "code",
      "metadata": {
        "colab": {
          "base_uri": "https://localhost:8080/"
        },
        "id": "dB3uwZZd5MQP",
        "outputId": "b71692bb-1f3d-4306-a574-abd61cf5daab"
      },
      "source": [
        "class Friend:\n",
        "\tdef __init__(self):\n",
        "\t\tself.job=\"None\"\n",
        "\n",
        "\tdef getJob(self):\n",
        "\t\treturn self.job\n",
        "\n",
        "\tdef setJob(self, job):\n",
        "\t\tself.job=job\n",
        "\n",
        "Priyanka=Friend()\n",
        "Himanshi=Friend()\n",
        "\n",
        "Priyanka.setJob(\"Doctor\")\n",
        "Himanshi.setJob(\"Financial anaylst\")\n",
        "\n",
        "print(Priyanka.job)\n",
        "print(Himanshi.job)"
      ],
      "execution_count": null,
      "outputs": [
        {
          "output_type": "stream",
          "text": [
            "Doctor\n",
            "Financial anaylst\n"
          ],
          "name": "stdout"
        }
      ]
    },
    {
      "cell_type": "markdown",
      "metadata": {
        "id": "XpPXVaHKz0fe"
      },
      "source": [
        "## **OOP |** **OBJECT**"
      ]
    },
    {
      "cell_type": "markdown",
      "metadata": {
        "id": "L65Rk_wryYqX"
      },
      "source": [
        "The object is an entity that has state and behavior. It may be anyb real-world object like mouse, keyboard etc."
      ]
    },
    {
      "cell_type": "markdown",
      "metadata": {
        "id": "zw1XFoc40gBt"
      },
      "source": [
        "Everything in Python is an object and almost everything has attributes and methods. All functions have a built-in attribute  _ _ _doc_ _ _, which returns the docstring defined in the function source code.\n",
        "\n",
        "When we define a class, it needs to create an object to allocate the memory."
      ]
    },
    {
      "cell_type": "markdown",
      "metadata": {
        "id": "JvVRTfDWUxqz"
      },
      "source": [
        "***Allocation of memory to the objects and data member:-***\n",
        "\n",
        "Memory is allocated seperately to each object of a class to store the values of data members in each object. "
      ]
    },
    {
      "cell_type": "markdown",
      "metadata": {
        "id": "gVvohpi_VJvf"
      },
      "source": [
        "***Memory allocation for member function:-***\n",
        "\n",
        "Member functions are created and placed in the memory only once when the class is defined."
      ]
    },
    {
      "cell_type": "code",
      "metadata": {
        "colab": {
          "base_uri": "https://localhost:8080/"
        },
        "id": "ctsqr7lQ3hqG",
        "outputId": "41a7d8c2-e204-4c29-815c-0d0e9e906c8a"
      },
      "source": [
        "class employee:\n",
        "  def __init__(self,empname,empno):\n",
        "    self.empname=empname\n",
        "    self.empno=empno\n",
        "  def display(self):\n",
        "    print(self.empname,self.empno)\n",
        "\n",
        "emp=employee(\"priyanka\",20)                   #object\n",
        "emp.display()"
      ],
      "execution_count": null,
      "outputs": [
        {
          "output_type": "stream",
          "text": [
            "priyanka 20\n"
          ],
          "name": "stdout"
        }
      ]
    },
    {
      "cell_type": "markdown",
      "metadata": {
        "id": "3P3PAuYK4BHI"
      },
      "source": [
        "## **OOP |** **DATA ABSTRACTION**"
      ]
    },
    {
      "cell_type": "markdown",
      "metadata": {
        "id": "dzTBst0U4IG6"
      },
      "source": [
        "The act of representing only essential details without including the background information.\n",
        "\n",
        "It is implemented by creating a class."
      ]
    },
    {
      "cell_type": "markdown",
      "metadata": {
        "id": "5ovoCKVx4trJ"
      },
      "source": [
        "## **OOP |** **ENCAPSULATION**"
      ]
    },
    {
      "cell_type": "markdown",
      "metadata": {
        "id": "GmdVUYG-42iU"
      },
      "source": [
        "The wrapping up of data and function into a single unit is known as encapsulation.\n",
        "\n",
        "It is implemented by creating a class as the class encapsulates data members and functions into it.\n",
        "\n",
        "Adding a double underscore makes the attribute a private attribute. Private attributes are those which are accessible only inside the class. This method of restricting access to our data is called encapsulation."
      ]
    },
    {
      "cell_type": "markdown",
      "metadata": {
        "id": "LamYD2KxNn0S"
      },
      "source": [
        "### ***Handling of encapsulation:***\n",
        "1. Private members\n",
        "2. Protected members\n",
        "3. Public members"
      ]
    },
    {
      "cell_type": "markdown",
      "metadata": {
        "id": "Sogok5cLN6Hr"
      },
      "source": [
        "***Access specifiers for controlling data***\n",
        "\n",
        "1. **Public member Behaviour**\n",
        "\n"
      ]
    },
    {
      "cell_type": "markdown",
      "metadata": {
        "id": "dKsAC8ajScEi"
      },
      "source": [
        "Attributes and behaviour defined in the public section of the class are known as public member of a class.\n",
        "\n",
        "Public members are available within the class everywhere inside class, only public members of a class can be seen outside the class using the objects of that class."
      ]
    },
    {
      "cell_type": "code",
      "metadata": {
        "id": "zUPfOux6OBpJ"
      },
      "source": [
        "class Rectangle:\n",
        " \n",
        " def __init__(self,l,w):\n",
        "  self.length=l     #public member\n",
        "  self.width=w      #public member\n",
        " \n",
        " def calculateArea(self):\n",
        "  return (self.length*self.width)"
      ],
      "execution_count": null,
      "outputs": []
    },
    {
      "cell_type": "markdown",
      "metadata": {
        "id": "xh_btsj_OHgy"
      },
      "source": [
        "2. **Protected member Behaviour**\n"
      ]
    },
    {
      "cell_type": "markdown",
      "metadata": {
        "id": "qLbg2zv4S-3f"
      },
      "source": [
        "Attributes and behaviour defined in the protected section of a class is known as protected members of a class.\n",
        "\n",
        "While the addition of prefix _(single underscore) results in a member variable or function becoming protected.\n",
        "\n",
        "These attributes behave exactly same as that of private members but protected members can be inherited unlike private members"
      ]
    },
    {
      "cell_type": "code",
      "metadata": {
        "id": "rIXLAfSnOce0"
      },
      "source": [
        "class Rectangle:\n",
        "\n",
        " def __init__(self,l,w):\n",
        "  self._length=l          #protected member\n",
        "  self._width=w           #protected member\n",
        " def calculateArea(self):\n",
        "  print(self.length*self.width)\n",
        "  pass"
      ],
      "execution_count": null,
      "outputs": []
    },
    {
      "cell_type": "markdown",
      "metadata": {
        "id": "IB471A-rOlk1"
      },
      "source": [
        "3. **Private member Behaviour**\n"
      ]
    },
    {
      "cell_type": "markdown",
      "metadata": {
        "id": "Fn-ZMQSJT0rp"
      },
      "source": [
        "Attributes and behaviour defined in the private section of the class are known as private member of a class.\n",
        "\n",
        "While the addition of prefix __(double underscore) results in a member variable or function becoming private.\n",
        "\n",
        "Private members are available within the class everywhere but private members are not accessable outside the class i.e the objects of a class cannot access the private members of a class.\n",
        "\n"
      ]
    },
    {
      "cell_type": "code",
      "metadata": {
        "id": "3IBuqmfeUnAS"
      },
      "source": [
        "class Customer:\n",
        "    def __init__(self, id, name, age, wallet_balance):\n",
        "        self.id = id\n",
        "        self.name = name\n",
        "        self.age = age\n",
        "        self.__wallet_balance = wallet_balance                #private member\n",
        "\n",
        "    def set_wallet_balance(self, amount):\n",
        "        if amount < 1000 and amount > 0:\n",
        "            self.__wallet_balance = amount\n",
        "\n",
        "    def get_wallet_balance(self):\n",
        "        return self.__wallet_balance\n",
        "\n",
        "c1=Customer(100, \"Gopal\", 24, 1000)\n",
        "c1.set_wallet_balance(120)\n",
        "print(c1.get_wallet_balance())"
      ],
      "execution_count": null,
      "outputs": []
    },
    {
      "cell_type": "markdown",
      "metadata": {
        "id": "V8pnk9w15avK"
      },
      "source": [
        "## **OOP |** **INHERITANCE**"
      ]
    },
    {
      "cell_type": "markdown",
      "metadata": {
        "id": "qo1cI3Jf5g6P"
      },
      "source": [
        "When class acquires properties from another class or classes.\n",
        "\n",
        "By using inheritance, we can create a class which uses all properties and behavior of another class. The new class is known as derived class and the one whose properties are acquired is known as base class.  "
      ]
    },
    {
      "cell_type": "markdown",
      "metadata": {
        "id": "4iw2xdHd7Hps"
      },
      "source": [
        "Constructor, attributes, methods get inherited to the child class.\n",
        "\n",
        "The parent has no access to the child class.\n",
        "\n",
        "Private properties of parent are not accessible directly in child class."
      ]
    },
    {
      "cell_type": "markdown",
      "metadata": {
        "id": "7zswN6mT6xkY"
      },
      "source": [
        "### ***Types of inheritance:-***\n",
        "\n",
        "\n",
        "\n",
        "1.   **Single inheritance**\n",
        "\n",
        " If one class acquires properties of another class.\n",
        "\n",
        "\n",
        "![inheritance11.png](data:image/png;base64,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)\n",
        "\n"
      ]
    },
    {
      "cell_type": "code",
      "metadata": {
        "colab": {
          "base_uri": "https://localhost:8080/"
        },
        "id": "evkxl8JKPCQh",
        "outputId": "8f6621f8-5de2-486c-86f5-98944b1dabdb"
      },
      "source": [
        "# Base class\n",
        "class Parent:\n",
        "     def func1(self):\n",
        "          print(\"This function is in parent class.\")\n",
        " \n",
        "# Derived class\n",
        "class Child(Parent):\n",
        "     def func2(self):\n",
        "          print(\"This function is in child class.\")\n",
        " \n",
        "# Driver's code\n",
        "object = Child()\n",
        "object.func1()\n",
        "object.func2()"
      ],
      "execution_count": null,
      "outputs": [
        {
          "output_type": "stream",
          "text": [
            "This function is in parent class.\n",
            "This function is in child class.\n"
          ],
          "name": "stdout"
        }
      ]
    },
    {
      "cell_type": "markdown",
      "metadata": {
        "id": "JX04GltzO-OI"
      },
      "source": [
        "2.   **Multiple inheritance** \n",
        "\n",
        " If the derived class aquires properties from more than one base classes.\n",
        "\n",
        "\n",
        "![multiple-inheritance1.png](data:image/png;base64,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)\n"
      ]
    },
    {
      "cell_type": "code",
      "metadata": {
        "id": "-0yjwm8oO5VC"
      },
      "source": [
        "class Base1:\n",
        " pass\n",
        "class Base2:\n",
        " pass\n",
        "class MultiDerived(Base1, Base2):\n",
        " pass\n"
      ],
      "execution_count": null,
      "outputs": []
    },
    {
      "cell_type": "markdown",
      "metadata": {
        "id": "268foQWfPAho"
      },
      "source": [
        "3.  **Multilevel inhertance** \n",
        "\n",
        " If we create a derived class which aquire the properties from a class which again derived from some other class. \n",
        "\n",
        "![Multilevel-inheritance1.png](data:image/png;base64,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)"
      ]
    },
    {
      "cell_type": "code",
      "metadata": {
        "colab": {
          "base_uri": "https://localhost:8080/"
        },
        "id": "NSaqWZaNP_oW",
        "outputId": "01d07fda-ec94-4910-f5cd-237c8f938c91"
      },
      "source": [
        "# Base class\n",
        "class Grandfather:\n",
        " \n",
        "    def __init__(self, grandfathername):\n",
        "        self.grandfathername = grandfathername\n",
        " \n",
        "# Intermediate class\n",
        "class Father(Grandfather):\n",
        "    def __init__(self, fathername, grandfathername):\n",
        "        self.fathername = fathername\n",
        " \n",
        "        # invoking constructor of Grandfather class\n",
        "        Grandfather.__init__(self, grandfathername)\n",
        " \n",
        "# Derived class\n",
        "class Son(Father):\n",
        "    def __init__(self,sonname, fathername, grandfathername):\n",
        "        self.sonname = sonname\n",
        " \n",
        "        # invoking constructor of Father class\n",
        "        Father.__init__(self, fathername, grandfathername)\n",
        " \n",
        "    def print_name(self):\n",
        "        print('Grandfather name :', self.grandfathername)\n",
        "        print(\"Father name :\", self.fathername)\n",
        "        print(\"Son name :\", self.sonname)\n",
        " \n",
        "#  Driver code\n",
        "s1 = Son('Pranav', 'Ramesh', 'Om Prakash')\n",
        "print(s1.grandfathername)\n",
        "s1.print_name()"
      ],
      "execution_count": null,
      "outputs": [
        {
          "output_type": "stream",
          "text": [
            "Om Prakash\n",
            "Grandfather name : Om Prakash\n",
            "Father name : Ramesh\n",
            "Son name : Pranav\n"
          ],
          "name": "stdout"
        }
      ]
    },
    {
      "cell_type": "markdown",
      "metadata": {
        "id": "MNExEsnJoR38"
      },
      "source": [
        "### **Benefits of using Inheritance:-**\n",
        "1. Less code repeatition, as the codewhich is common can be placed class, hence making it available to all the child classes.\n",
        "2. By dividing the code into classes, we can structure our software better by dividing functionality into classes.\n",
        "3. Make the code more scalable."
      ]
    },
    {
      "cell_type": "markdown",
      "metadata": {
        "id": "MUHQOYCr8Xpm"
      },
      "source": [
        "## **OOP |** **POLYMORPHISM**"
      ]
    },
    {
      "cell_type": "markdown",
      "metadata": {
        "id": "JWeKrq_h8gQs"
      },
      "source": [
        "If the same message is interpreted differently in different environments.\n",
        "\n",
        "It is implemented by function overloading."
      ]
    },
    {
      "cell_type": "code",
      "metadata": {
        "colab": {
          "base_uri": "https://localhost:8080/"
        },
        "id": "K-4pYAgAYM9q",
        "outputId": "5a4a9b2f-a69e-4a2b-a15f-61d3b0aecb89"
      },
      "source": [
        "# len() being used for a string\n",
        "print(len(\"Happy Learning\"))\n",
        "  \n",
        "# len() being used for a list\n",
        "print(len([10, 20, 30]))"
      ],
      "execution_count": null,
      "outputs": [
        {
          "output_type": "stream",
          "text": [
            "14\n",
            "3\n"
          ],
          "name": "stdout"
        }
      ]
    }
  ]
}